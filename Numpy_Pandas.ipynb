{
 "cells": [
  {
   "cell_type": "markdown",
   "metadata": {},
   "source": [
    "<img src=\"https://media.licdn.com/dms/image/C561BAQEVCDe44Tt-kQ/company-background_10000/0?e=2159024400&v=beta&t=BglJGcQeWT2zCaG1sbW30jo9YOGOUCqQ6TOPnWPlra4\"/>"
   ]
  },
  {
   "cell_type": "markdown",
   "metadata": {},
   "source": [
    "# Numpy\n",
    "\n",
    "We will be learning about some basic programming and data analysis using Numpy and Pandas. First up - NumPy\n",
    "\n",
    "NumPy is the fundamental package for scientific computing in Python. It is used across many fields inc. Mathematics, Engineering, Finance, Data Science, Artificial Intelligence, Machine Learning etc. Most scientific computing libraries will build on NumPy.\n",
    "\n",
    "Numpy provides functions to work with N-dimensional arrays and an assortment of routines for fast operations on such arrays: matrix mathematics, logical, shape manipulation, statistical operations, random simulation etc."
   ]
  },
  {
   "cell_type": "markdown",
   "metadata": {},
   "source": [
    "## Basic Numpy tools\n",
    "\n",
    "<img src=\"https://matteding.github.io/images/broadcasting-3d-scalar.gif\" width=\"400\" height=\"400\" align=\"left\"/>\n"
   ]
  },
  {
   "cell_type": "markdown",
   "metadata": {},
   "source": [
    "Here, we will exam some fairly simple tools in Numpy for the management of data and doing basic statistics. First, lets make sure numpy is imported:\n"
   ]
  },
  {
   "cell_type": "code",
   "execution_count": 1,
   "metadata": {},
   "outputs": [],
   "source": [
    "import numpy as np"
   ]
  },
  {
   "cell_type": "markdown",
   "metadata": {},
   "source": [
    "### Array creation and Indexing\n",
    "\n",
    "In the cells below we will learn basic array creation and indexing\n"
   ]
  },
  {
   "cell_type": "code",
   "execution_count": 2,
   "metadata": {},
   "outputs": [
    {
     "name": "stdout",
     "output_type": "stream",
     "text": [
      "Numpy Array 'a':\n",
      "\n",
      "<class 'numpy.ndarray'>\n",
      "(3,)\n",
      "1 2 3\n",
      "[5 2 3] \n",
      "\n",
      "Numpy Array 'b':\n",
      "\n",
      "(2, 3)\n",
      "[[1 2 3]\n",
      " [4 5 6]]\n",
      "1 2 4\n"
     ]
    }
   ],
   "source": [
    "a = np.array([1, 2, 3])            # Create a simple array\n",
    "print(\"Numpy Array 'a':\\n\")\n",
    "print(type(a))                     # Prints type as recognised by Python\n",
    "print(a.shape)                     # Prints its shape\n",
    "print(a[0], a[1], a[2])            # Prints certain indexed values\n",
    "a[0] = 5                           # Change an element of the array\n",
    "print(a,\"\\n\")                   \n",
    "\n",
    "\n",
    "print(\"Numpy Array 'b':\\n\")\n",
    "b = np.array([[1,2,3],[4,5,6]])    # Create an array with more 'complexity'\n",
    "print(b.shape)\n",
    "print(b)                     \n",
    "print(b[0, 0], b[0, 1], b[1, 0])  \n"
   ]
  },
  {
   "cell_type": "markdown",
   "metadata": {},
   "source": [
    "### Array manipulation and mathematics\n",
    "Where numpy gets really powerful is its efficiency in array manipulation and mathematics."
   ]
  },
  {
   "cell_type": "code",
   "execution_count": 3,
   "metadata": {},
   "outputs": [
    {
     "name": "stdout",
     "output_type": "stream",
     "text": [
      "[[ 6  8]\n",
      " [10 12]] \n",
      "\n",
      "[[ 5 12]\n",
      " [21 32]] \n",
      "\n",
      "[[1.         1.41421356]\n",
      " [1.73205081 2.        ]] \n",
      "\n",
      "[[19 22]\n",
      " [43 50]] \n",
      "\n",
      "[-4 -4] \n",
      "\n"
     ]
    }
   ],
   "source": [
    "\n",
    "x = np.array([[1,2],[3,4]])\n",
    "y = np.array([[5,6],[7,8]])\n",
    "\n",
    "print(x + y,'\\n')\n",
    "print(x * y,'\\n') \n",
    "\n",
    "# numpy has many mathematical functions built in - accessed via dot notation\n",
    "print(np.sqrt(x),'\\n')\n",
    "print(np.dot(x, y),'\\n')\n",
    "print(np.cross(x, y),'\\n')"
   ]
  },
  {
   "cell_type": "markdown",
   "metadata": {},
   "source": [
    "Numpy also provides aggregation methods."
   ]
  },
  {
   "cell_type": "code",
   "execution_count": 4,
   "metadata": {},
   "outputs": [
    {
     "name": "stdout",
     "output_type": "stream",
     "text": [
      "10\n",
      "[5.5 7.5]\n"
     ]
    }
   ],
   "source": [
    "print(x.sum())  # sum over the entire matrix\n",
    "print(y.mean(axis=1))  # mean of each row"
   ]
  },
  {
   "cell_type": "markdown",
   "metadata": {},
   "source": [
    "#### Your turn..."
   ]
  },
  {
   "cell_type": "code",
   "execution_count": 10,
   "metadata": {},
   "outputs": [],
   "source": [
    "import numpy as np\n",
    "# Create the following 3 x 4 array and call it 'c':\n",
    "\n",
    "# [[ 1  2  3  4]\n",
    "#  [ 5  6  7  8]\n",
    "#  [ 9 10 11 12]]\n",
    "\n",
    "c = np.array([[ 1, 2, 3,4],\n",
    "              [ 5,6,7,8],\n",
    "              [ 9,10,11,12]])\n"
   ]
  },
  {
   "cell_type": "code",
   "execution_count": 11,
   "metadata": {},
   "outputs": [
    {
     "name": "stdout",
     "output_type": "stream",
     "text": [
      "ques_1:\n",
      " [[ 5  6  7  8]\n",
      " [ 9 10 11 12]]\n",
      "ques_2:\n",
      " [5 7]\n",
      "ques_3:\n",
      " [[ 4  8 12 16]\n",
      " [20 24 28 32]\n",
      " [36 40 44 48]]\n",
      "ques_4 (Transpose of c):\n",
      " [[ 1  5  9]\n",
      " [ 2  6 10]\n",
      " [ 3  7 11]\n",
      " [ 4  8 12]]\n",
      "ques_5 (Reshaped c):\n",
      " [[ 1  2  3]\n",
      " [ 4  5  6]\n",
      " [ 7  8  9]\n",
      " [10 11 12]]\n",
      "ques_6 (Element-wise multiplication of reshaped and transposed c):\n",
      " [[  1  10  27]\n",
      " [  8  30  60]\n",
      " [ 21  56  99]\n",
      " [ 40  88 144]]\n"
     ]
    }
   ],
   "source": [
    "ques_1 = c[1:3, :]\n",
    "print(\"ques_1:\\n\", ques_1) # Print all values in rows 2 & 3\n",
    "ques_2 = c[1, [0, 2]]\n",
    "print(\"ques_2:\\n\", ques_2)   # Print the values in the 2nd row and in cols 1 & 3\n",
    "ques_3 = c * 4\n",
    "print(\"ques_3:\\n\", ques_3)   # perform a scalar multiplication of c with 4\n",
    "ques_4 = c.T\n",
    "print(\"ques_4 (Transpose of c):\\n\", ques_4)   # transpose c\n",
    "ques_5 =  c.reshape(4, 3)\n",
    "print(\"ques_5 (Reshaped c):\\n\", ques_5)\n",
    "  # reshape c to a 4 x 3 array?\n",
    "ques_6 =  ques_5 * ques_4\n",
    "print(\"ques_6 (Element-wise multiplication of reshaped and transposed c):\\n\", ques_6)  # perform an element wise multiplicaton of the reshaped c and transposed c "
   ]
  },
  {
   "cell_type": "markdown",
   "metadata": {},
   "source": [
    "### Random\n",
    "Random number generation plays a crucial role in configuring and evaluating many numerical and machine learning algorithms. Whether it's for randomly initializing weights in a neural network, splitting data into random subsets, or shuffling a dataset, the ability to generate random numbers (specifically repeatable pseudo-random numbers) is vital."
   ]
  },
  {
   "cell_type": "code",
   "execution_count": 13,
   "metadata": {},
   "outputs": [
    {
     "name": "stdout",
     "output_type": "stream",
     "text": [
      "[35.58780901 26.29157135 29.04706348 ... 34.78964365 21.68399644\n",
      " 44.45578774]\n"
     ]
    }
   ],
   "source": [
    "# create a half hourly power profile for 1 year filled with random numbers between 0 and 50\n",
    "num_intervals = 365 * 24 * 2\n",
    "power_profile = np.random.uniform(0, 50, num_intervals)\n",
    "print(power_profile)"
   ]
  },
  {
   "cell_type": "code",
   "execution_count": 14,
   "metadata": {},
   "outputs": [
    {
     "name": "stdout",
     "output_type": "stream",
     "text": [
      "[[35.58780901 26.29157135 29.04706348 ...  8.73475759  3.02924545\n",
      "   1.31489271]\n",
      " [18.98859432 18.78161857 27.74554904 ...  6.33357222 34.44850792\n",
      "  28.04771312]\n",
      " [46.28888506  2.74441232  4.55654867 ... 31.6347737  33.4335743\n",
      "  18.18219041]\n",
      " ...\n",
      " [37.15179414 27.21426006 27.80189788 ... 11.9842643  30.63665664\n",
      "  37.08208581]\n",
      " [ 0.13810171 33.14875514 14.69934454 ...  5.2867024  39.38467011\n",
      "  44.85040504]\n",
      " [38.53140953 11.01151135 21.20278339 ... 34.78964365 21.68399644\n",
      "  44.45578774]]\n"
     ]
    }
   ],
   "source": [
    "# reshape the array into daily half hour profiles\n",
    "num_daily = 24*2\n",
    "daily = power_profile.reshape(365, num_daily)\n",
    "\n",
    "print(daily)"
   ]
  },
  {
   "cell_type": "code",
   "execution_count": 15,
   "metadata": {},
   "outputs": [
    {
     "data": {
      "text/plain": [
       "array([[17.79390451, 13.14578567, 14.52353174, ...,  4.36737879,\n",
       "         1.51462273,  0.65744635],\n",
       "       [ 9.49429716,  9.39080929, 13.87277452, ...,  3.16678611,\n",
       "        17.22425396, 14.02385656],\n",
       "       [23.14444253,  1.37220616,  2.27827434, ..., 15.81738685,\n",
       "        16.71678715,  9.09109521],\n",
       "       ...,\n",
       "       [18.57589707, 13.60713003, 13.90094894, ...,  5.99213215,\n",
       "        15.31832832, 18.5410429 ],\n",
       "       [ 0.06905086, 16.57437757,  7.34967227, ...,  2.6433512 ,\n",
       "        19.69233505, 22.42520252],\n",
       "       [19.26570476,  5.50575567, 10.6013917 , ..., 17.39482182,\n",
       "        10.84199822, 22.22789387]])"
      ]
     },
     "execution_count": 15,
     "metadata": {},
     "output_type": "execute_result"
    }
   ],
   "source": [
    "# convert to energy\n",
    "daily*0.5"
   ]
  },
  {
   "cell_type": "markdown",
   "metadata": {},
   "source": [
    "# Pandas\n",
    "Pandas is the go-to for data processing in python. (it is built on Numpy).\n",
    "\n",
    "Pandas provides tabular data structures for high-performance functions to analyse, clean, explore, and manipulate ‘big’ multidimensional and heterogeneous data.\n",
    "\n",
    "Think of Pandas data structures like you would a spreadsheet (like in Excel) or an SQL table – but faster, easier and more powerful.\n",
    "\n",
    "Pandas has two core data structures:\n",
    "\n",
    "**Series** - A one-dimensional labelled homogeneous array containing data of any type. It is similar to a list, but has additional features such as indexing, slicing, and missing value handling. \n",
    "\n",
    "**DataFrame** - A two-dimensional, labelled, and heterogeneous tabular data structure with its own indexing system.\n",
    "\n",
    "First, lets make sure pandas has been imported:"
   ]
  },
  {
   "cell_type": "code",
   "execution_count": 9,
   "metadata": {},
   "outputs": [],
   "source": [
    "import pandas as pd"
   ]
  },
  {
   "cell_type": "markdown",
   "metadata": {},
   "source": [
    "## Let's work with Pandas Dataframes\n",
    "The first step will involve you creating a hypothetical dataframe and then you will move on to importing energy data with Pandas to perform basic descriptive statistics.\n",
    "\n",
    "There are many ways to create a DataFrame, from scratch, most closely resemble a python dictionary with nested lists."
   ]
  },
  {
   "cell_type": "code",
   "execution_count": 10,
   "metadata": {},
   "outputs": [
    {
     "data": {
      "text/html": [
       "<div>\n",
       "<style scoped>\n",
       "    .dataframe tbody tr th:only-of-type {\n",
       "        vertical-align: middle;\n",
       "    }\n",
       "\n",
       "    .dataframe tbody tr th {\n",
       "        vertical-align: top;\n",
       "    }\n",
       "\n",
       "    .dataframe thead th {\n",
       "        text-align: right;\n",
       "    }\n",
       "</style>\n",
       "<table border=\"1\" class=\"dataframe\">\n",
       "  <thead>\n",
       "    <tr style=\"text-align: right;\">\n",
       "      <th></th>\n",
       "      <th>Country</th>\n",
       "      <th>Primary Energy Consumption (TWh)</th>\n",
       "    </tr>\n",
       "  </thead>\n",
       "  <tbody>\n",
       "    <tr>\n",
       "      <th>0</th>\n",
       "      <td>Namibia</td>\n",
       "      <td>22</td>\n",
       "    </tr>\n",
       "    <tr>\n",
       "      <th>1</th>\n",
       "      <td>Portugal</td>\n",
       "      <td>258</td>\n",
       "    </tr>\n",
       "    <tr>\n",
       "      <th>2</th>\n",
       "      <td>Egypt</td>\n",
       "      <td>1105</td>\n",
       "    </tr>\n",
       "    <tr>\n",
       "      <th>3</th>\n",
       "      <td>Haiti</td>\n",
       "      <td>12</td>\n",
       "    </tr>\n",
       "    <tr>\n",
       "      <th>4</th>\n",
       "      <td>Thailand</td>\n",
       "      <td>1406</td>\n",
       "    </tr>\n",
       "    <tr>\n",
       "      <th>5</th>\n",
       "      <td>Bolivia</td>\n",
       "      <td>85</td>\n",
       "    </tr>\n",
       "    <tr>\n",
       "      <th>6</th>\n",
       "      <td>Estonia</td>\n",
       "      <td>62</td>\n",
       "    </tr>\n",
       "  </tbody>\n",
       "</table>\n",
       "</div>"
      ],
      "text/plain": [
       "    Country  Primary Energy Consumption (TWh)\n",
       "0   Namibia                                22\n",
       "1  Portugal                               258\n",
       "2     Egypt                              1105\n",
       "3     Haiti                                12\n",
       "4  Thailand                              1406\n",
       "5   Bolivia                                85\n",
       "6   Estonia                                62"
      ]
     },
     "execution_count": 10,
     "metadata": {},
     "output_type": "execute_result"
    }
   ],
   "source": [
    "df = pd.DataFrame({\"Country\": [\"Namibia\", \"Portugal\", \"Egypt\", \"Haiti\", \"Thailand\", \"Bolivia\", \"Estonia\"],\n",
    "                   \"Primary Energy Consumption (TWh)\": [22, 258, 1105, 12, 1406, 85, 62]})\n",
    "df"
   ]
  },
  {
   "attachments": {},
   "cell_type": "markdown",
   "metadata": {},
   "source": [
    "### Creating your own data and placing it into a Pandas dataframe   \n",
    "\n",
    "1. Using data from [OurWorldInData](https://ourworldindata.org/grapher/primary-sub-energy-source?tab=table)), create a DataFrame for your group’s country which contains the primary energy consumption by source for at least 3 year and at least 3 sources.\n",
    "\n",
    "     Your index should be the year, and your columns should be the energy source\n",
    "\n",
    "2. Use the .mean() method to calculate the mean for your data. Try setting the 'axis' keyword to 0 or 1. What does it do?\n",
    "3. Try plotting the data using the .plot() method..\n"
   ]
  },
  {
   "cell_type": "code",
   "execution_count": 16,
   "metadata": {},
   "outputs": [],
   "source": [
    "# Develop your code here\n",
    "import pandas as pd\n",
    "import matplotlib.pyplot as plt\n",
    "df = pd.read_csv('/Users/zhangcuicheng/Library/CloudStorage/Dropbox/Cuicheng/Academic/PhD/08_Coding/MSc-Python-Example/primary-sub-energy-source.csv')"
   ]
  },
  {
   "cell_type": "code",
   "execution_count": 25,
   "metadata": {},
   "outputs": [
    {
     "name": "stdout",
     "output_type": "stream",
     "text": [
      "Index(['Entity', 'Code', 'Year', 'Wind consumption - TWh',\n",
      "       'Hydro consumption - TWh', 'Solar consumption - TWh',\n",
      "       'Nuclear consumption - TWh', 'Biofuels consumption - TWh',\n",
      "       'Other renewables (including geothermal and biomass) - TWh',\n",
      "       'Coal consumption - TWh', 'Oil consumption - TWh',\n",
      "       'Gas consumption - TWh'],\n",
      "      dtype='object')\n"
     ]
    }
   ],
   "source": [
    "print(df.columns)\n"
   ]
  },
  {
   "cell_type": "code",
   "execution_count": 26,
   "metadata": {},
   "outputs": [
    {
     "name": "stdout",
     "output_type": "stream",
     "text": [
      "      Hydro consumption - TWh  Nuclear consumption - TWh  \\\n",
      "Year                                                       \n",
      "2010                60.395134                        0.0   \n",
      "2015                63.612060                        0.0   \n",
      "2020                57.045450                        0.0   \n",
      "\n",
      "      Coal consumption - TWh  \n",
      "Year                          \n",
      "2010               52.229164  \n",
      "2015               85.054840  \n",
      "2020               73.145775  \n"
     ]
    }
   ],
   "source": [
    "# Filter data for a specific country\n",
    "country_data = df[df['Entity'] == 'Chile']\n",
    "\n",
    "# Select the columns for years and energy sources\n",
    "energy_data = country_data[['Year', 'Hydro consumption - TWh', 'Nuclear consumption - TWh', 'Coal consumption - TWh']]\n",
    "\n",
    "# Set 'year' as the index\n",
    "energy_data.set_index('Year', inplace=True)\n",
    "energy_data = energy_data.loc[[2010, 2015, 2020]]\n",
    "print(energy_data)\n"
   ]
  },
  {
   "cell_type": "markdown",
   "metadata": {},
   "source": [
    "### There are a few ways of importing data into Python and Pandas makes it very convenient.  \n",
    "  \n",
    "Have a look at the code below to see two examples  \n",
    "  \n",
    "`import pandas as pd\n",
    "df = pd.read_csv('filename.txt', sep=\" \", header=None, names=[\"a\",\"b\",\"c\"])`\n",
    "  \n",
    "Or  \n",
    "  \n",
    "`import pandas as pd \n",
    "df = pd.read_csv('file_location\\filename.txt', delimiter = \"\\t\")  # Can input a URL as well`\n",
    "\n"
   ]
  },
  {
   "cell_type": "markdown",
   "metadata": {},
   "source": [
    "#### Go ahead and import the data\n",
    "\n",
    "The code below will use a URL to import data on the power plants of the USA, using the simpliest form of input arguements to the Pandas `read_csv` function. Note how we imported Numpy as `np` and not Pandas as `pd`. Dataframes are conventionally called `df` in Python but you can rename to another logical variable name. \n"
   ]
  },
  {
   "cell_type": "code",
   "execution_count": 33,
   "metadata": {
    "code_folding": []
   },
   "outputs": [],
   "source": [
    "# The following implies an internet connection of course\n",
    "import pandas as pd\n",
    "usa_gen = pd.read_csv('https://raw.githubusercontent.com/wri/global-power-plant-database/master/source_databases_csv/database_USA.csv')\n"
   ]
  },
  {
   "cell_type": "markdown",
   "metadata": {},
   "source": [
    "#### Let's have a look at the data\n",
    "\n",
    "The `head` function is an easy way to inspect your dataset. The default number of rows to show is 5. Let's explore the dataset a bit. Use `df.head(20)` to see more rows etc. \n",
    "  \n",
    "  "
   ]
  },
  {
   "cell_type": "code",
   "execution_count": 31,
   "metadata": {},
   "outputs": [
    {
     "data": {
      "text/html": [
       "<div>\n",
       "<style scoped>\n",
       "    .dataframe tbody tr th:only-of-type {\n",
       "        vertical-align: middle;\n",
       "    }\n",
       "\n",
       "    .dataframe tbody tr th {\n",
       "        vertical-align: top;\n",
       "    }\n",
       "\n",
       "    .dataframe thead th {\n",
       "        text-align: right;\n",
       "    }\n",
       "</style>\n",
       "<table border=\"1\" class=\"dataframe\">\n",
       "  <thead>\n",
       "    <tr style=\"text-align: right;\">\n",
       "      <th></th>\n",
       "      <th>country</th>\n",
       "      <th>country_long</th>\n",
       "      <th>name</th>\n",
       "      <th>gppd_idnr</th>\n",
       "      <th>capacity_mw</th>\n",
       "      <th>latitude</th>\n",
       "      <th>longitude</th>\n",
       "      <th>primary_fuel</th>\n",
       "      <th>other_fuel1</th>\n",
       "      <th>other_fuel2</th>\n",
       "      <th>...</th>\n",
       "      <th>year_of_capacity_data</th>\n",
       "      <th>generation_gwh_2013</th>\n",
       "      <th>generation_gwh_2014</th>\n",
       "      <th>generation_gwh_2015</th>\n",
       "      <th>generation_gwh_2016</th>\n",
       "      <th>generation_gwh_2017</th>\n",
       "      <th>generation_gwh_2018</th>\n",
       "      <th>generation_gwh_2019</th>\n",
       "      <th>generation_data_source</th>\n",
       "      <th>estimated_generation_gwh</th>\n",
       "    </tr>\n",
       "  </thead>\n",
       "  <tbody>\n",
       "    <tr>\n",
       "      <th>0</th>\n",
       "      <td>USA</td>\n",
       "      <td>United States of America</td>\n",
       "      <td>10 Briggs Solar NG  LLC (East)</td>\n",
       "      <td>USA0062781</td>\n",
       "      <td>0.0</td>\n",
       "      <td>41.6327</td>\n",
       "      <td>-71.4963</td>\n",
       "      <td>NaN</td>\n",
       "      <td>NaN</td>\n",
       "      <td>NaN</td>\n",
       "      <td>...</td>\n",
       "      <td>2019.0</td>\n",
       "      <td>NaN</td>\n",
       "      <td>NaN</td>\n",
       "      <td>NaN</td>\n",
       "      <td>NaN</td>\n",
       "      <td>NaN</td>\n",
       "      <td>NaN</td>\n",
       "      <td>NaN</td>\n",
       "      <td>NaN</td>\n",
       "      <td>NaN</td>\n",
       "    </tr>\n",
       "    <tr>\n",
       "      <th>1</th>\n",
       "      <td>USA</td>\n",
       "      <td>United States of America</td>\n",
       "      <td>100 Brook Hill Drive Solar</td>\n",
       "      <td>USA0063292</td>\n",
       "      <td>2.0</td>\n",
       "      <td>41.0930</td>\n",
       "      <td>-73.9828</td>\n",
       "      <td>Solar</td>\n",
       "      <td>NaN</td>\n",
       "      <td>NaN</td>\n",
       "      <td>...</td>\n",
       "      <td>2019.0</td>\n",
       "      <td>NaN</td>\n",
       "      <td>NaN</td>\n",
       "      <td>NaN</td>\n",
       "      <td>NaN</td>\n",
       "      <td>NaN</td>\n",
       "      <td>NaN</td>\n",
       "      <td>2.467</td>\n",
       "      <td>U.S. Energy Information Administration</td>\n",
       "      <td>NaN</td>\n",
       "    </tr>\n",
       "    <tr>\n",
       "      <th>2</th>\n",
       "      <td>USA</td>\n",
       "      <td>United States of America</td>\n",
       "      <td>1001 Ebenezer Church Solar</td>\n",
       "      <td>USA0063444</td>\n",
       "      <td>0.0</td>\n",
       "      <td>36.2838</td>\n",
       "      <td>-80.8434</td>\n",
       "      <td>NaN</td>\n",
       "      <td>NaN</td>\n",
       "      <td>NaN</td>\n",
       "      <td>...</td>\n",
       "      <td>2019.0</td>\n",
       "      <td>NaN</td>\n",
       "      <td>NaN</td>\n",
       "      <td>NaN</td>\n",
       "      <td>NaN</td>\n",
       "      <td>NaN</td>\n",
       "      <td>NaN</td>\n",
       "      <td>NaN</td>\n",
       "      <td>NaN</td>\n",
       "      <td>NaN</td>\n",
       "    </tr>\n",
       "    <tr>\n",
       "      <th>3</th>\n",
       "      <td>USA</td>\n",
       "      <td>United States of America</td>\n",
       "      <td>1008 Matthews Solar</td>\n",
       "      <td>USA0063447</td>\n",
       "      <td>0.0</td>\n",
       "      <td>36.2167</td>\n",
       "      <td>-80.5525</td>\n",
       "      <td>NaN</td>\n",
       "      <td>NaN</td>\n",
       "      <td>NaN</td>\n",
       "      <td>...</td>\n",
       "      <td>2019.0</td>\n",
       "      <td>NaN</td>\n",
       "      <td>NaN</td>\n",
       "      <td>NaN</td>\n",
       "      <td>NaN</td>\n",
       "      <td>NaN</td>\n",
       "      <td>NaN</td>\n",
       "      <td>NaN</td>\n",
       "      <td>NaN</td>\n",
       "      <td>NaN</td>\n",
       "    </tr>\n",
       "    <tr>\n",
       "      <th>4</th>\n",
       "      <td>USA</td>\n",
       "      <td>United States of America</td>\n",
       "      <td>1009 Yadkin Solar</td>\n",
       "      <td>USA0063445</td>\n",
       "      <td>0.0</td>\n",
       "      <td>36.1475</td>\n",
       "      <td>-80.6561</td>\n",
       "      <td>NaN</td>\n",
       "      <td>NaN</td>\n",
       "      <td>NaN</td>\n",
       "      <td>...</td>\n",
       "      <td>2019.0</td>\n",
       "      <td>NaN</td>\n",
       "      <td>NaN</td>\n",
       "      <td>NaN</td>\n",
       "      <td>NaN</td>\n",
       "      <td>NaN</td>\n",
       "      <td>NaN</td>\n",
       "      <td>NaN</td>\n",
       "      <td>NaN</td>\n",
       "      <td>NaN</td>\n",
       "    </tr>\n",
       "    <tr>\n",
       "      <th>5</th>\n",
       "      <td>USA</td>\n",
       "      <td>United States of America</td>\n",
       "      <td>1025 Traveller Solar  LLC</td>\n",
       "      <td>USA0062660</td>\n",
       "      <td>5.0</td>\n",
       "      <td>35.4273</td>\n",
       "      <td>-79.1263</td>\n",
       "      <td>Solar</td>\n",
       "      <td>NaN</td>\n",
       "      <td>NaN</td>\n",
       "      <td>...</td>\n",
       "      <td>2019.0</td>\n",
       "      <td>NaN</td>\n",
       "      <td>NaN</td>\n",
       "      <td>NaN</td>\n",
       "      <td>NaN</td>\n",
       "      <td>NaN</td>\n",
       "      <td>NaN</td>\n",
       "      <td>1.332</td>\n",
       "      <td>U.S. Energy Information Administration</td>\n",
       "      <td>NaN</td>\n",
       "    </tr>\n",
       "    <tr>\n",
       "      <th>6</th>\n",
       "      <td>USA</td>\n",
       "      <td>United States of America</td>\n",
       "      <td>1045 Tomlin Mill Solar</td>\n",
       "      <td>USA0063448</td>\n",
       "      <td>0.0</td>\n",
       "      <td>35.9162</td>\n",
       "      <td>-80.8355</td>\n",
       "      <td>NaN</td>\n",
       "      <td>NaN</td>\n",
       "      <td>NaN</td>\n",
       "      <td>...</td>\n",
       "      <td>2019.0</td>\n",
       "      <td>NaN</td>\n",
       "      <td>NaN</td>\n",
       "      <td>NaN</td>\n",
       "      <td>NaN</td>\n",
       "      <td>NaN</td>\n",
       "      <td>NaN</td>\n",
       "      <td>NaN</td>\n",
       "      <td>NaN</td>\n",
       "      <td>NaN</td>\n",
       "    </tr>\n",
       "    <tr>\n",
       "      <th>7</th>\n",
       "      <td>USA</td>\n",
       "      <td>United States of America</td>\n",
       "      <td>1047 Little Mountain Solar  LLC</td>\n",
       "      <td>USA0062661</td>\n",
       "      <td>3.0</td>\n",
       "      <td>36.1971</td>\n",
       "      <td>-80.8067</td>\n",
       "      <td>Solar</td>\n",
       "      <td>NaN</td>\n",
       "      <td>NaN</td>\n",
       "      <td>...</td>\n",
       "      <td>2019.0</td>\n",
       "      <td>NaN</td>\n",
       "      <td>NaN</td>\n",
       "      <td>NaN</td>\n",
       "      <td>NaN</td>\n",
       "      <td>NaN</td>\n",
       "      <td>NaN</td>\n",
       "      <td>1.417</td>\n",
       "      <td>U.S. Energy Information Administration</td>\n",
       "      <td>NaN</td>\n",
       "    </tr>\n",
       "    <tr>\n",
       "      <th>8</th>\n",
       "      <td>USA</td>\n",
       "      <td>United States of America</td>\n",
       "      <td>1073 Onslow Solar</td>\n",
       "      <td>USA0063446</td>\n",
       "      <td>0.0</td>\n",
       "      <td>34.7736</td>\n",
       "      <td>-77.1858</td>\n",
       "      <td>NaN</td>\n",
       "      <td>NaN</td>\n",
       "      <td>NaN</td>\n",
       "      <td>...</td>\n",
       "      <td>2019.0</td>\n",
       "      <td>NaN</td>\n",
       "      <td>NaN</td>\n",
       "      <td>NaN</td>\n",
       "      <td>NaN</td>\n",
       "      <td>NaN</td>\n",
       "      <td>NaN</td>\n",
       "      <td>NaN</td>\n",
       "      <td>NaN</td>\n",
       "      <td>NaN</td>\n",
       "    </tr>\n",
       "    <tr>\n",
       "      <th>9</th>\n",
       "      <td>USA</td>\n",
       "      <td>United States of America</td>\n",
       "      <td>12 Applegate Solar LLC</td>\n",
       "      <td>USA0059371</td>\n",
       "      <td>1.9</td>\n",
       "      <td>40.2003</td>\n",
       "      <td>-74.5761</td>\n",
       "      <td>Solar</td>\n",
       "      <td>NaN</td>\n",
       "      <td>NaN</td>\n",
       "      <td>...</td>\n",
       "      <td>2019.0</td>\n",
       "      <td>2.41461</td>\n",
       "      <td>2.35</td>\n",
       "      <td>2.43</td>\n",
       "      <td>2.492</td>\n",
       "      <td>2.276</td>\n",
       "      <td>2.207</td>\n",
       "      <td>2.349</td>\n",
       "      <td>U.S. Energy Information Administration</td>\n",
       "      <td>NaN</td>\n",
       "    </tr>\n",
       "  </tbody>\n",
       "</table>\n",
       "<p>10 rows × 27 columns</p>\n",
       "</div>"
      ],
      "text/plain": [
       "  country              country_long                             name  \\\n",
       "0     USA  United States of America   10 Briggs Solar NG  LLC (East)   \n",
       "1     USA  United States of America       100 Brook Hill Drive Solar   \n",
       "2     USA  United States of America       1001 Ebenezer Church Solar   \n",
       "3     USA  United States of America              1008 Matthews Solar   \n",
       "4     USA  United States of America                1009 Yadkin Solar   \n",
       "5     USA  United States of America        1025 Traveller Solar  LLC   \n",
       "6     USA  United States of America           1045 Tomlin Mill Solar   \n",
       "7     USA  United States of America  1047 Little Mountain Solar  LLC   \n",
       "8     USA  United States of America                1073 Onslow Solar   \n",
       "9     USA  United States of America           12 Applegate Solar LLC   \n",
       "\n",
       "    gppd_idnr  capacity_mw  latitude  longitude primary_fuel other_fuel1  \\\n",
       "0  USA0062781          0.0   41.6327   -71.4963          NaN         NaN   \n",
       "1  USA0063292          2.0   41.0930   -73.9828        Solar         NaN   \n",
       "2  USA0063444          0.0   36.2838   -80.8434          NaN         NaN   \n",
       "3  USA0063447          0.0   36.2167   -80.5525          NaN         NaN   \n",
       "4  USA0063445          0.0   36.1475   -80.6561          NaN         NaN   \n",
       "5  USA0062660          5.0   35.4273   -79.1263        Solar         NaN   \n",
       "6  USA0063448          0.0   35.9162   -80.8355          NaN         NaN   \n",
       "7  USA0062661          3.0   36.1971   -80.8067        Solar         NaN   \n",
       "8  USA0063446          0.0   34.7736   -77.1858          NaN         NaN   \n",
       "9  USA0059371          1.9   40.2003   -74.5761        Solar         NaN   \n",
       "\n",
       "  other_fuel2  ... year_of_capacity_data  generation_gwh_2013  \\\n",
       "0         NaN  ...                2019.0                  NaN   \n",
       "1         NaN  ...                2019.0                  NaN   \n",
       "2         NaN  ...                2019.0                  NaN   \n",
       "3         NaN  ...                2019.0                  NaN   \n",
       "4         NaN  ...                2019.0                  NaN   \n",
       "5         NaN  ...                2019.0                  NaN   \n",
       "6         NaN  ...                2019.0                  NaN   \n",
       "7         NaN  ...                2019.0                  NaN   \n",
       "8         NaN  ...                2019.0                  NaN   \n",
       "9         NaN  ...                2019.0              2.41461   \n",
       "\n",
       "  generation_gwh_2014 generation_gwh_2015 generation_gwh_2016  \\\n",
       "0                 NaN                 NaN                 NaN   \n",
       "1                 NaN                 NaN                 NaN   \n",
       "2                 NaN                 NaN                 NaN   \n",
       "3                 NaN                 NaN                 NaN   \n",
       "4                 NaN                 NaN                 NaN   \n",
       "5                 NaN                 NaN                 NaN   \n",
       "6                 NaN                 NaN                 NaN   \n",
       "7                 NaN                 NaN                 NaN   \n",
       "8                 NaN                 NaN                 NaN   \n",
       "9                2.35                2.43               2.492   \n",
       "\n",
       "  generation_gwh_2017  generation_gwh_2018  generation_gwh_2019  \\\n",
       "0                 NaN                  NaN                  NaN   \n",
       "1                 NaN                  NaN                2.467   \n",
       "2                 NaN                  NaN                  NaN   \n",
       "3                 NaN                  NaN                  NaN   \n",
       "4                 NaN                  NaN                  NaN   \n",
       "5                 NaN                  NaN                1.332   \n",
       "6                 NaN                  NaN                  NaN   \n",
       "7                 NaN                  NaN                1.417   \n",
       "8                 NaN                  NaN                  NaN   \n",
       "9               2.276                2.207                2.349   \n",
       "\n",
       "                   generation_data_source  estimated_generation_gwh  \n",
       "0                                     NaN                       NaN  \n",
       "1  U.S. Energy Information Administration                       NaN  \n",
       "2                                     NaN                       NaN  \n",
       "3                                     NaN                       NaN  \n",
       "4                                     NaN                       NaN  \n",
       "5  U.S. Energy Information Administration                       NaN  \n",
       "6                                     NaN                       NaN  \n",
       "7  U.S. Energy Information Administration                       NaN  \n",
       "8                                     NaN                       NaN  \n",
       "9  U.S. Energy Information Administration                       NaN  \n",
       "\n",
       "[10 rows x 27 columns]"
      ]
     },
     "execution_count": 31,
     "metadata": {},
     "output_type": "execute_result"
    }
   ],
   "source": [
    "usa_gen.head(10)"
   ]
  },
  {
   "cell_type": "markdown",
   "metadata": {},
   "source": [
    "### Indexing with Pandas\n",
    "There are many ways to index"
   ]
  },
  {
   "cell_type": "code",
   "execution_count": 36,
   "metadata": {},
   "outputs": [
    {
     "ename": "AttributeError",
     "evalue": "'DataFrame' object has no attribute 'country_long'",
     "output_type": "error",
     "traceback": [
      "\u001b[0;31m---------------------------------------------------------------------------\u001b[0m",
      "\u001b[0;31mAttributeError\u001b[0m                            Traceback (most recent call last)",
      "\u001b[0;32m/var/folders/x0/b23rmjfx20vf6_h7nzq8bkjm0000gn/T/ipykernel_65752/2084402295.py\u001b[0m in \u001b[0;36m?\u001b[0;34m()\u001b[0m\n\u001b[0;32m----> 2\u001b[0;31m \u001b[0;31m# dot notation\u001b[0m\u001b[0;34m\u001b[0m\u001b[0;34m\u001b[0m\u001b[0m\n\u001b[0m\u001b[1;32m      3\u001b[0m \u001b[0mdf\u001b[0m\u001b[0;34m.\u001b[0m\u001b[0mcountry_long\u001b[0m\u001b[0;34m\u001b[0m\u001b[0;34m\u001b[0m\u001b[0m\n",
      "\u001b[0;32m/opt/anaconda3/envs/MSc-Energy/lib/python3.9/site-packages/pandas/core/generic.py\u001b[0m in \u001b[0;36m?\u001b[0;34m(self, name)\u001b[0m\n\u001b[1;32m   6295\u001b[0m             \u001b[0;32mand\u001b[0m \u001b[0mname\u001b[0m \u001b[0;32mnot\u001b[0m \u001b[0;32min\u001b[0m \u001b[0mself\u001b[0m\u001b[0;34m.\u001b[0m\u001b[0m_accessors\u001b[0m\u001b[0;34m\u001b[0m\u001b[0;34m\u001b[0m\u001b[0m\n\u001b[1;32m   6296\u001b[0m             \u001b[0;32mand\u001b[0m \u001b[0mself\u001b[0m\u001b[0;34m.\u001b[0m\u001b[0m_info_axis\u001b[0m\u001b[0;34m.\u001b[0m\u001b[0m_can_hold_identifiers_and_holds_name\u001b[0m\u001b[0;34m(\u001b[0m\u001b[0mname\u001b[0m\u001b[0;34m)\u001b[0m\u001b[0;34m\u001b[0m\u001b[0;34m\u001b[0m\u001b[0m\n\u001b[1;32m   6297\u001b[0m         ):\n\u001b[1;32m   6298\u001b[0m             \u001b[0;32mreturn\u001b[0m \u001b[0mself\u001b[0m\u001b[0;34m[\u001b[0m\u001b[0mname\u001b[0m\u001b[0;34m]\u001b[0m\u001b[0;34m\u001b[0m\u001b[0;34m\u001b[0m\u001b[0m\n\u001b[0;32m-> 6299\u001b[0;31m         \u001b[0;32mreturn\u001b[0m \u001b[0mobject\u001b[0m\u001b[0;34m.\u001b[0m\u001b[0m__getattribute__\u001b[0m\u001b[0;34m(\u001b[0m\u001b[0mself\u001b[0m\u001b[0;34m,\u001b[0m \u001b[0mname\u001b[0m\u001b[0;34m)\u001b[0m\u001b[0;34m\u001b[0m\u001b[0;34m\u001b[0m\u001b[0m\n\u001b[0m",
      "\u001b[0;31mAttributeError\u001b[0m: 'DataFrame' object has no attribute 'country_long'"
     ]
    }
   ],
   "source": [
    "# dot notation\n",
    "df.country_long "
   ]
  },
  {
   "cell_type": "code",
   "execution_count": null,
   "metadata": {},
   "outputs": [],
   "source": [
    "# or using square brackets\n",
    "df[\"Primary Energy Consumption (TWh)\"].head(3)  "
   ]
  },
  {
   "cell_type": "code",
   "execution_count": null,
   "metadata": {},
   "outputs": [],
   "source": [
    "# or using the .loc function\n",
    "df.loc[2:4, \"Country\"]"
   ]
  },
  {
   "cell_type": "code",
   "execution_count": null,
   "metadata": {},
   "outputs": [],
   "source": [
    "# you can also use conditional statements to index\n",
    "df[df[\"Primary Energy Consumption (TWh)\"] > 100]"
   ]
  },
  {
   "cell_type": "code",
   "execution_count": null,
   "metadata": {},
   "outputs": [],
   "source": [
    "# or use for loops to iterate through an axis\n",
    "for i, row in df.iterrows():\n",
    "    print(row[\"Country\"])"
   ]
  },
  {
   "cell_type": "markdown",
   "metadata": {},
   "source": [
    "**Your turn.** Let's pull some data from the `usa_gen` DataFrame that we have loaded based on some of the information given to you through the graphic above. *Hint: It is best to only use the data that you need.\n",
    "&nbsp;\n",
    "\n",
    "**Use the cells below to print the following values:**\n",
    "\n",
    "1. The total number of power plants in the US.\n",
    "2. The minimum, maximum and average capacity of the plants in MW.\n",
    "3. The number of listed solar farms.\n",
    "4. The number of different plant types listed.\n",
    "5. The year with the highest generation from all of the plants."
   ]
  },
  {
   "cell_type": "code",
   "execution_count": 37,
   "metadata": {
    "code_folding": []
   },
   "outputs": [
    {
     "ename": "KeyError",
     "evalue": "'plant_name'",
     "output_type": "error",
     "traceback": [
      "\u001b[0;31m---------------------------------------------------------------------------\u001b[0m",
      "\u001b[0;31mKeyError\u001b[0m                                  Traceback (most recent call last)",
      "File \u001b[0;32m/opt/anaconda3/envs/MSc-Energy/lib/python3.9/site-packages/pandas/core/indexes/base.py:3805\u001b[0m, in \u001b[0;36mIndex.get_loc\u001b[0;34m(self, key)\u001b[0m\n\u001b[1;32m   3804\u001b[0m \u001b[38;5;28;01mtry\u001b[39;00m:\n\u001b[0;32m-> 3805\u001b[0m     \u001b[38;5;28;01mreturn\u001b[39;00m \u001b[38;5;28;43mself\u001b[39;49m\u001b[38;5;241;43m.\u001b[39;49m\u001b[43m_engine\u001b[49m\u001b[38;5;241;43m.\u001b[39;49m\u001b[43mget_loc\u001b[49m\u001b[43m(\u001b[49m\u001b[43mcasted_key\u001b[49m\u001b[43m)\u001b[49m\n\u001b[1;32m   3806\u001b[0m \u001b[38;5;28;01mexcept\u001b[39;00m \u001b[38;5;167;01mKeyError\u001b[39;00m \u001b[38;5;28;01mas\u001b[39;00m err:\n",
      "File \u001b[0;32mindex.pyx:167\u001b[0m, in \u001b[0;36mpandas._libs.index.IndexEngine.get_loc\u001b[0;34m()\u001b[0m\n",
      "File \u001b[0;32mindex.pyx:196\u001b[0m, in \u001b[0;36mpandas._libs.index.IndexEngine.get_loc\u001b[0;34m()\u001b[0m\n",
      "File \u001b[0;32mpandas/_libs/hashtable_class_helper.pxi:7081\u001b[0m, in \u001b[0;36mpandas._libs.hashtable.PyObjectHashTable.get_item\u001b[0;34m()\u001b[0m\n",
      "File \u001b[0;32mpandas/_libs/hashtable_class_helper.pxi:7089\u001b[0m, in \u001b[0;36mpandas._libs.hashtable.PyObjectHashTable.get_item\u001b[0;34m()\u001b[0m\n",
      "\u001b[0;31mKeyError\u001b[0m: 'plant_name'",
      "\nThe above exception was the direct cause of the following exception:\n",
      "\u001b[0;31mKeyError\u001b[0m                                  Traceback (most recent call last)",
      "Cell \u001b[0;32mIn[37], line 2\u001b[0m\n\u001b[1;32m      1\u001b[0m \u001b[38;5;66;03m# The total number of power plants in the US with capacity greater than 5MW.\u001b[39;00m\n\u001b[0;32m----> 2\u001b[0m total_plants \u001b[38;5;241m=\u001b[39m \u001b[43musa_gen\u001b[49m\u001b[43m[\u001b[49m\u001b[38;5;124;43m'\u001b[39;49m\u001b[38;5;124;43mplant_name\u001b[39;49m\u001b[38;5;124;43m'\u001b[39;49m\u001b[43m]\u001b[49m\u001b[38;5;241m.\u001b[39mnunique()\n\u001b[1;32m      3\u001b[0m \u001b[38;5;28mprint\u001b[39m(\u001b[38;5;124m\"\u001b[39m\u001b[38;5;124mTotal number of power plants in the US:\u001b[39m\u001b[38;5;124m\"\u001b[39m, total_plants)\n",
      "File \u001b[0;32m/opt/anaconda3/envs/MSc-Energy/lib/python3.9/site-packages/pandas/core/frame.py:4102\u001b[0m, in \u001b[0;36mDataFrame.__getitem__\u001b[0;34m(self, key)\u001b[0m\n\u001b[1;32m   4100\u001b[0m \u001b[38;5;28;01mif\u001b[39;00m \u001b[38;5;28mself\u001b[39m\u001b[38;5;241m.\u001b[39mcolumns\u001b[38;5;241m.\u001b[39mnlevels \u001b[38;5;241m>\u001b[39m \u001b[38;5;241m1\u001b[39m:\n\u001b[1;32m   4101\u001b[0m     \u001b[38;5;28;01mreturn\u001b[39;00m \u001b[38;5;28mself\u001b[39m\u001b[38;5;241m.\u001b[39m_getitem_multilevel(key)\n\u001b[0;32m-> 4102\u001b[0m indexer \u001b[38;5;241m=\u001b[39m \u001b[38;5;28;43mself\u001b[39;49m\u001b[38;5;241;43m.\u001b[39;49m\u001b[43mcolumns\u001b[49m\u001b[38;5;241;43m.\u001b[39;49m\u001b[43mget_loc\u001b[49m\u001b[43m(\u001b[49m\u001b[43mkey\u001b[49m\u001b[43m)\u001b[49m\n\u001b[1;32m   4103\u001b[0m \u001b[38;5;28;01mif\u001b[39;00m is_integer(indexer):\n\u001b[1;32m   4104\u001b[0m     indexer \u001b[38;5;241m=\u001b[39m [indexer]\n",
      "File \u001b[0;32m/opt/anaconda3/envs/MSc-Energy/lib/python3.9/site-packages/pandas/core/indexes/base.py:3812\u001b[0m, in \u001b[0;36mIndex.get_loc\u001b[0;34m(self, key)\u001b[0m\n\u001b[1;32m   3807\u001b[0m     \u001b[38;5;28;01mif\u001b[39;00m \u001b[38;5;28misinstance\u001b[39m(casted_key, \u001b[38;5;28mslice\u001b[39m) \u001b[38;5;129;01mor\u001b[39;00m (\n\u001b[1;32m   3808\u001b[0m         \u001b[38;5;28misinstance\u001b[39m(casted_key, abc\u001b[38;5;241m.\u001b[39mIterable)\n\u001b[1;32m   3809\u001b[0m         \u001b[38;5;129;01mand\u001b[39;00m \u001b[38;5;28many\u001b[39m(\u001b[38;5;28misinstance\u001b[39m(x, \u001b[38;5;28mslice\u001b[39m) \u001b[38;5;28;01mfor\u001b[39;00m x \u001b[38;5;129;01min\u001b[39;00m casted_key)\n\u001b[1;32m   3810\u001b[0m     ):\n\u001b[1;32m   3811\u001b[0m         \u001b[38;5;28;01mraise\u001b[39;00m InvalidIndexError(key)\n\u001b[0;32m-> 3812\u001b[0m     \u001b[38;5;28;01mraise\u001b[39;00m \u001b[38;5;167;01mKeyError\u001b[39;00m(key) \u001b[38;5;28;01mfrom\u001b[39;00m \u001b[38;5;21;01merr\u001b[39;00m\n\u001b[1;32m   3813\u001b[0m \u001b[38;5;28;01mexcept\u001b[39;00m \u001b[38;5;167;01mTypeError\u001b[39;00m:\n\u001b[1;32m   3814\u001b[0m     \u001b[38;5;66;03m# If we have a listlike key, _check_indexing_error will raise\u001b[39;00m\n\u001b[1;32m   3815\u001b[0m     \u001b[38;5;66;03m#  InvalidIndexError. Otherwise we fall through and re-raise\u001b[39;00m\n\u001b[1;32m   3816\u001b[0m     \u001b[38;5;66;03m#  the TypeError.\u001b[39;00m\n\u001b[1;32m   3817\u001b[0m     \u001b[38;5;28mself\u001b[39m\u001b[38;5;241m.\u001b[39m_check_indexing_error(key)\n",
      "\u001b[0;31mKeyError\u001b[0m: 'plant_name'"
     ]
    }
   ],
   "source": [
    "# The total number of power plants in the US with capacity greater than 5MW.\n",
    "total_plants = usa_gen['plant_name'].nunique()\n",
    "print(\"Total number of power plants in the US:\", total_plants)"
   ]
  },
  {
   "cell_type": "code",
   "execution_count": null,
   "metadata": {},
   "outputs": [],
   "source": [
    "# The minimum, maximum and average capacity of the plants in MW."
   ]
  },
  {
   "cell_type": "code",
   "execution_count": null,
   "metadata": {},
   "outputs": [],
   "source": [
    "# The number of listed solar farms."
   ]
  },
  {
   "cell_type": "code",
   "execution_count": null,
   "metadata": {},
   "outputs": [],
   "source": [
    "# The number of different plant types listed."
   ]
  },
  {
   "cell_type": "code",
   "execution_count": null,
   "metadata": {},
   "outputs": [],
   "source": [
    "# The year with the highest generation from all of the plants."
   ]
  },
  {
   "cell_type": "code",
   "execution_count": null,
   "metadata": {},
   "outputs": [],
   "source": []
  },
  {
   "cell_type": "markdown",
   "metadata": {},
   "source": [
    "### Statistics, plotting etc\n",
    "Pandas also provides lots of functions that can be used for statistical analysis and plotting (and many more) of large datasets"
   ]
  },
  {
   "cell_type": "code",
   "execution_count": null,
   "metadata": {},
   "outputs": [],
   "source": [
    "# to calculate some summary statistics on the USA power plant capacity data\n",
    "usa_gen[\"capacity_mw\"].describe()"
   ]
  },
  {
   "cell_type": "code",
   "execution_count": null,
   "metadata": {},
   "outputs": [],
   "source": [
    "# to plot capacity vs commissioning year\n",
    "usa_gen.plot(x=\"commissioning_year\", y=\"capacity_mw\", kind='scatter')"
   ]
  },
  {
   "cell_type": "markdown",
   "metadata": {},
   "source": [
    "Try changing the variables and type of plot produced to investigate other features in the data."
   ]
  },
  {
   "cell_type": "markdown",
   "metadata": {},
   "source": [
    "  \n",
    "#### Animation and Code Sources  \n",
    "\n",
    "*Datafram GIF: <a href=\"https://i.stack.imgur.com/aClG1.gif\">Stack Exchange</a>   \n",
    "Numpy GIF: <a href=\"https://matteding.github.io/images/broadcasting-3d-scalar.gif\">Matt Eding</a>  \n",
    "Final Challenge: <a href=\"https://dribbble.com/antoshenbka\">Anton</a>   \n",
    "Reach the finish line: <a href=\"https://i.pinimg.com/originals/5f/f8/8f/5ff88fa577c8b0fa614f2fa3747acf25.gif\">Lidia R</a>*\n"
   ]
  },
  {
   "cell_type": "code",
   "execution_count": null,
   "metadata": {},
   "outputs": [],
   "source": []
  },
  {
   "cell_type": "code",
   "execution_count": null,
   "metadata": {},
   "outputs": [],
   "source": []
  }
 ],
 "metadata": {
  "anaconda-cloud": {},
  "kernelspec": {
   "display_name": "Python 3 (ipykernel)",
   "language": "python",
   "name": "python3"
  },
  "language_info": {
   "codemirror_mode": {
    "name": "ipython",
    "version": 3
   },
   "file_extension": ".py",
   "mimetype": "text/x-python",
   "name": "python",
   "nbconvert_exporter": "python",
   "pygments_lexer": "ipython3",
   "version": "3.9.20"
  }
 },
 "nbformat": 4,
 "nbformat_minor": 4
}
